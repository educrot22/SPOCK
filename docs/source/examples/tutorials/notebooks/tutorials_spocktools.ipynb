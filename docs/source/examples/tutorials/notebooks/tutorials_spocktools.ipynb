{
 "cells": [
  {
   "cell_type": "markdown",
   "metadata": {},
   "source": [
    "# Useful tools"
   ]
  },
  {
   "cell_type": "markdown",
   "metadata": {},
   "source": [
    "## 1- Transit observability predictions"
   ]
  },
  {
   "cell_type": "markdown",
   "metadata": {},
   "source": [
    "In this section we present a tool to predict whether the next transits of your favorite exoplanet will be observable from ome of the SPECULOOS site"
   ]
  },
  {
   "cell_type": "markdown",
   "metadata": {},
   "source": [
    "Only a few basic information are needed:\n",
    "\n",
    "* Site name, ex: `obs_name = 'SSO'`\n",
    "\n",
    "* Planet name, ex: `name = TRAPPIST-1b`\n",
    "\n",
    "* Right ascension, ex: `ra = 346.622384`  \n",
    "\n",
    "* Declinaison, ex: `dec = -5.041398`\n",
    "\n",
    "* Timing (in BJD_TDB), ex: `timing = 2457322.51505`\n",
    "\n",
    "* Period (in days), ex: `period = 1.51088212`\n",
    "\n",
    "* Transit duration (in days), ex: `duration = 0.02511108`\n",
    "\n",
    "* Date to start prediction, ex start_date = `'2020-06-01 00:00:00'`\n",
    "\n",
    "* Number of next transits from this atart date, ex: `ntr = 4`\n",
    "\n",
    "\n",
    "Note that this tools is not suposed to be very precise as errors on timing, period and duration are **NOT** taken into account. "
   ]
  },
  {
   "cell_type": "code",
   "execution_count": null,
   "metadata": {},
   "outputs": [],
   "source": [
    "import SPOCK.short_term_scheduler as SPOCKST\n",
    "\n",
    "SPOCKST.prediction(name='TRAPPIST-1b',ra=346.,dec=-5.05,\n",
    "                   timing=2457322.51505,\n",
    "                   period=1.51088212,duration=0.02511108,\n",
    "                   start_date='2020-10-01 00:00:00',ntr=4)"
   ]
  },
  {
   "cell_type": "markdown",
   "metadata": {},
   "source": [
    "## 2- Get info on a target from SPECULOOS target list"
   ]
  },
  {
   "cell_type": "markdown",
   "metadata": {},
   "source": [
    "If you want to check rapidly the stellar properties, GAIA ID, its priority, its completion etc of a SPECULOOS `target`, you can use the following function:"
   ]
  },
  {
   "cell_type": "code",
   "execution_count": null,
   "metadata": {},
   "outputs": [],
   "source": [
    "import SPOCK.stats as SPOCKstats\n",
    "\n",
    "SPOCKstats.info_on_Sp_target(target = 'Sp0439-3235')"
   ]
  },
  {
   "cell_type": "markdown",
   "metadata": {},
   "source": [
    "## 3- Get info on scheduled night blocks"
   ]
  },
  {
   "cell_type": "markdown",
   "metadata": {},
   "source": [
    "Here we propose a function to check which targets have been scheduled on the SPECULOOS telescopes by displaying its corresponding <span style=\"background-color:lightyellow\"><font color='orangered'> **night_blocks** </font></span>. The user will onyly have to precise the `date` and the `telescope`."
   ]
  },
  {
   "cell_type": "code",
   "execution_count": null,
   "metadata": {},
   "outputs": [],
   "source": [
    "import SPOCK.stats as SPOCKstats\n",
    "\n",
    "SPOCKstats.read_night_plans_server(telescope = 'Io',date = '2020-10-12')\n",
    "\n"
   ]
  },
  {
   "cell_type": "markdown",
   "metadata": {},
   "source": [
    "## 4- Compute exposure time "
   ]
  },
  {
   "cell_type": "code",
   "execution_count": 4,
   "metadata": {},
   "outputs": [
    {
     "name": "stdout",
     "output_type": "stream",
     "text": [
      "26.903258366340253\n"
     ]
    }
   ],
   "source": [
    "import SPOCK.ETC as ETC\n",
    "\n",
    "# ------- test  ETC\n",
    "\n",
    "a = (ETC.etc(mag_val= 10.25 , mag_band='J', spt='M2',filt='z',  airmass=1.3, moonphase=0.5, irtf=0.8, num_tel=1, seeing=1.5, gain=1.1))#airmass=1.1, moonphase=0.5, irtf=0.8, num_tel=1, seeing=2., gain=1.1))\n",
    "texp = a.exp_time_calculator(ADUpeak=50000)[0]\n",
    "\n",
    "print(texp)\n"
   ]
  },
  {
   "cell_type": "code",
   "execution_count": 1,
   "metadata": {},
   "outputs": [
    {
     "name": "stdout",
     "output_type": "stream",
     "text": [
      "\u001b[32mINFO: \u001b[30m Please add password.csv file in: /Users/ed268546/elsenv/lib/python3.8/site-packages/SPOCK-2.0-py3.8.egg/SPOCK/credentials/\n",
      "\u001b[32mINFO: \u001b[30m OK Password file exists\n",
      "\u001b[32mINFO: \u001b[30mLatest target list already updated.\n",
      "\u001b[32mINFO: \u001b[30mTarget list already in good format\n",
      "/Users/ed268546/Documents/codes/SPOCK/SPOCK/files_ETC/SPIRIT/datafiles/SRs/pirtSPC_-60_zYJ_instrumentSR.csv has been saved!\n",
      "/Users/ed268546/Documents/codes/SPOCK/SPOCK/files_ETC/SPIRIT/datafiles/SRs/andorSPC_-60_I+z_instrumentSR.csv has been saved!\n"
     ]
    },
    {
     "ename": "IndexError",
     "evalue": "invalid index to scalar variable.",
     "output_type": "error",
     "traceback": [
      "\u001b[0;31m---------------------------------------------------------------------------\u001b[0m",
      "\u001b[0;31mIndexError\u001b[0m                                Traceback (most recent call last)",
      "\u001b[0;32m/var/folders/hq/0cjvstf11cqbtmz26c9stns82w1k7g/T/ipykernel_15210/377223972.py\u001b[0m in \u001b[0;36m<module>\u001b[0;34m\u001b[0m\n\u001b[1;32m     61\u001b[0m }\n\u001b[1;32m     62\u001b[0m \u001b[0;34m\u001b[0m\u001b[0m\n\u001b[0;32m---> 63\u001b[0;31m \u001b[0mandor\u001b[0m \u001b[0;34m=\u001b[0m \u001b[0mmphot\u001b[0m\u001b[0;34m.\u001b[0m\u001b[0mget_precision\u001b[0m\u001b[0;34m(\u001b[0m\u001b[0mprops_telescope1\u001b[0m\u001b[0;34m,\u001b[0m \u001b[0mprops_sky\u001b[0m\u001b[0;34m,\u001b[0m \u001b[0mTeff\u001b[0m\u001b[0;34m=\u001b[0m\u001b[0mTeff_target\u001b[0m\u001b[0;34m,\u001b[0m \u001b[0mdistance\u001b[0m\u001b[0;34m=\u001b[0m\u001b[0mdist_target\u001b[0m\u001b[0;34m,\u001b[0m \u001b[0moverride\u001b[0m\u001b[0;34m=\u001b[0m\u001b[0;32mFalse\u001b[0m\u001b[0;34m,\u001b[0m \u001b[0mmapping\u001b[0m\u001b[0;34m=\u001b[0m\u001b[0;32mTrue\u001b[0m\u001b[0;34m)\u001b[0m\u001b[0;34m\u001b[0m\u001b[0;34m\u001b[0m\u001b[0m\n\u001b[0m\u001b[1;32m     64\u001b[0m \u001b[0;34m\u001b[0m\u001b[0m\n\u001b[1;32m     65\u001b[0m \u001b[0;34m\u001b[0m\u001b[0m\n",
      "\u001b[0;32m~/elsenv/lib/python3.8/site-packages/SPOCK-2.0-py3.8.egg/SPOCK/mphot.py\u001b[0m in \u001b[0;36mget_precision\u001b[0;34m(props, props_sky, Teff, distance, binning, override, fixed_exp, SPCcorrection, mapping)\u001b[0m\n\u001b[1;32m    316\u001b[0m     \u001b[0mnpix\u001b[0m \u001b[0;34m=\u001b[0m \u001b[0mnp\u001b[0m\u001b[0;34m.\u001b[0m\u001b[0mpi\u001b[0m \u001b[0;34m*\u001b[0m \u001b[0map\u001b[0m\u001b[0;34m**\u001b[0m\u001b[0;36m2\u001b[0m\u001b[0;34m\u001b[0m\u001b[0;34m\u001b[0m\u001b[0m\n\u001b[1;32m    317\u001b[0m \u001b[0;34m\u001b[0m\u001b[0m\n\u001b[0;32m--> 318\u001b[0;31m     \u001b[0mscn\u001b[0m \u001b[0;34m=\u001b[0m \u001b[0mscint\u001b[0m\u001b[0;34m(\u001b[0m\u001b[0mr0\u001b[0m\u001b[0;34m,\u001b[0m \u001b[0mt\u001b[0m\u001b[0;34m[\u001b[0m\u001b[0;36m0\u001b[0m\u001b[0;34m]\u001b[0m\u001b[0;34m,\u001b[0m \u001b[0mN_star\u001b[0m\u001b[0;34m[\u001b[0m\u001b[0;36m0\u001b[0m\u001b[0;34m]\u001b[0m\u001b[0;34m)\u001b[0m\u001b[0;34m\u001b[0m\u001b[0;34m\u001b[0m\u001b[0m\n\u001b[0m\u001b[1;32m    319\u001b[0m \u001b[0;34m\u001b[0m\u001b[0m\n\u001b[1;32m    320\u001b[0m     \u001b[0mprecision\u001b[0m \u001b[0;34m=\u001b[0m \u001b[0mnp\u001b[0m\u001b[0;34m.\u001b[0m\u001b[0msqrt\u001b[0m\u001b[0;34m(\u001b[0m \u001b[0mN_star\u001b[0m\u001b[0;34m[\u001b[0m\u001b[0;36m0\u001b[0m\u001b[0;34m]\u001b[0m\u001b[0;34m*\u001b[0m\u001b[0mt\u001b[0m\u001b[0;34m[\u001b[0m\u001b[0;36m0\u001b[0m\u001b[0;34m]\u001b[0m \u001b[0;34m+\u001b[0m \u001b[0mscn\u001b[0m\u001b[0;34m**\u001b[0m\u001b[0;36m2\u001b[0m \u001b[0;34m+\u001b[0m \u001b[0mnpix\u001b[0m \u001b[0;34m*\u001b[0m \u001b[0;34m(\u001b[0m\u001b[0mN_sky\u001b[0m\u001b[0;34m*\u001b[0m\u001b[0mt\u001b[0m\u001b[0;34m[\u001b[0m\u001b[0;36m0\u001b[0m\u001b[0;34m]\u001b[0m \u001b[0;34m+\u001b[0m \u001b[0mN_dc\u001b[0m\u001b[0;34m*\u001b[0m\u001b[0mt\u001b[0m\u001b[0;34m[\u001b[0m\u001b[0;36m0\u001b[0m\u001b[0;34m]\u001b[0m \u001b[0;34m+\u001b[0m \u001b[0mN_rn\u001b[0m\u001b[0;34m**\u001b[0m\u001b[0;36m2\u001b[0m\u001b[0;34m)\u001b[0m \u001b[0;34m)\u001b[0m \u001b[0;34m/\u001b[0m \u001b[0;34m(\u001b[0m\u001b[0mN_star\u001b[0m\u001b[0;34m[\u001b[0m\u001b[0;36m0\u001b[0m\u001b[0;34m]\u001b[0m\u001b[0;34m*\u001b[0m\u001b[0mt\u001b[0m\u001b[0;34m[\u001b[0m\u001b[0;36m0\u001b[0m\u001b[0;34m]\u001b[0m\u001b[0;34m)\u001b[0m\u001b[0;34m\u001b[0m\u001b[0;34m\u001b[0m\u001b[0m\n",
      "\u001b[0;31mIndexError\u001b[0m: invalid index to scalar variable."
     ]
    }
   ],
   "source": [
    "import SPOCK.mphot as mphot\n",
    "from SPOCK import path_spock\n",
    "import numpy as np\n",
    "\n",
    "Teff_target = 6572 #K\n",
    "dist_target = 342 #pc\n",
    "filt_andor = 'I+z'\n",
    "\n",
    "# example files used to generate SR\n",
    "efficiencyFile2 = path_spock + '/SPOCK/files_ETC/SPIRIT/datafiles/systems/pirtSPC_-60.csv'\n",
    "filterFile2 = path_spock + '/SPOCK/files_ETC/SPIRIT/datafiles/filters/zYJ.csv'\n",
    "\n",
    "# name to refer to the generated file\n",
    "name2 = efficiencyFile2.split('/')[-1][:-4] + '_' + filterFile2.split('/')[-1][:-4]\n",
    "\n",
    "# generates a SR, saved locally as 'name1_instrumentSR.csv'\n",
    "SRFile2 = path_spock + '/SPOCK/files_ETC/SPIRIT/datafiles/SRs/' + name2 + '_instrumentSR.csv'\n",
    "mphot.generateSR(efficiencyFile2, filterFile2, SRFile2)\n",
    "props_sky = {\n",
    "    \"pwv\": 2.5,  # PWV [mm]\n",
    "    \"airmass\": 1.1,  # Airmass\n",
    "    \"seeing\": 1.2  # Seeing/FWHM [\"]\n",
    "}\n",
    "props_callisto = {\n",
    "    \"name\": name2,\n",
    "    \"plate_scale\": 0.35 * (12 / 13.5),\n",
    "    \"N_dc\": 230,\n",
    "    \"N_rn\": 80,\n",
    "    \"well_depth\": 55000,\n",
    "    \"bias_level\": 0,\n",
    "    \"well_fill\": 0.7,\n",
    "    \"read_time\": 0.1,\n",
    "    \"r0\": 0.5,\n",
    "    \"r1\": 0.14,\n",
    "    \"ap_rad\": 3\n",
    "}\n",
    "\n",
    "# example files used to generate spectral response (SR)\n",
    "efficiencyFile1 = path_spock + '/SPOCK/files_ETC/SPIRIT/datafiles/systems/andorSPC_-60.csv' # in microns, fractional efficiency\n",
    "filterFile1 = path_spock + '/SPOCK/files_ETC/SPIRIT/datafiles/filters/'+filt_andor+'.csv'\n",
    "\n",
    "# name to refer to the generated file\n",
    "name1 = efficiencyFile1.split('/')[-1][:-4] + '_' + filterFile1.split('/')[-1][:-4]\n",
    "\n",
    "# generates a SR, saved locally as 'name1_instrumentSR.csv'\n",
    "SRFile1 = path_spock + '/SPOCK/files_ETC/SPIRIT/datafiles/SRs/' + name1 + '_instrumentSR.csv'\n",
    "mphot.generateSR(efficiencyFile1, filterFile1, SRFile1)\n",
    "\n",
    "props_telescope1 = {\n",
    "    \"name\" : name1, # name to get SR/precision grid from file\n",
    "    \"plate_scale\" : 0.35, # pixel plate scale [\"]\n",
    "    \"N_dc\" : 0.2, # dark current [e/pix/s]\n",
    "    \"N_rn\" : 6.328, # read noise [e_rms/pix]\n",
    "    \"well_depth\" : 64000, # well depth [e/pix]\n",
    "    \"bias_level\" : 0, # bias level [e/pix] - not really needed if well depth ignores bias level\n",
    "    \"well_fill\" : 0.7, # fractional value to fill central target pixel, assuming gaussian (width function of seeing^)\n",
    "    \"read_time\" : 10.5, # read time between images [s]\n",
    "    \"r0\" : 0.5, # radius of telescope's primary mirror [m]\n",
    "    \"r1\" : 0.14, # radius of telescope's secondary mirror [m]\n",
    "    \"ap_rad\" : 3 # aperture radius [FWHM] -- 3 default == 7 sigma of Gaussian ~ aperture 6 on Cambridge pipeline/Portal\n",
    "}\n",
    "\n",
    "andor = mphot.get_precision(props_telescope1, props_sky, Teff=Teff_target, distance=dist_target, override=False, mapping=True)\n",
    "\n",
    "\n",
    "print(andor['components']['t [s]'][0])"
   ]
  },
  {
   "cell_type": "code",
   "execution_count": null,
   "metadata": {},
   "outputs": [],
   "source": []
  }
 ],
 "metadata": {
  "kernelspec": {
   "display_name": "elsenv",
   "language": "python",
   "name": "python3"
  },
  "language_info": {
   "codemirror_mode": {
    "name": "ipython",
    "version": 3
   },
   "file_extension": ".py",
   "mimetype": "text/x-python",
   "name": "python",
   "nbconvert_exporter": "python",
   "pygments_lexer": "ipython3",
   "version": "3.8.9"
  }
 },
 "nbformat": 4,
 "nbformat_minor": 4
}
